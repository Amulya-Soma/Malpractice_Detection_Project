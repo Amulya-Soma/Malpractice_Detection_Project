{
  "cells": [
    {
      "cell_type": "code",
      "execution_count": 3,
      "metadata": {
        "id": "SC2ayQcLFhpA"
      },
      "outputs": [],
      "source": [
        "import tensorflow as tf\n",
        "\n",
        "\n",
        "from tensorflow.keras.preprocessing.image import ImageDataGenerator\n",
        "from tensorflow.keras.applications import MobileNetV2\n",
        "from tensorflow.keras.layers import AveragePooling2D\n",
        "from tensorflow.keras.layers import Dropout\n",
        "from tensorflow.keras.layers import Flatten\n",
        "from tensorflow.keras.layers import Dense\n",
        "from tensorflow.keras.layers import Input\n",
        "from tensorflow.keras.models import Model\n",
        "from tensorflow.keras.optimizers import Adam\n",
        "from tensorflow.keras.applications.mobilenet_v2 import preprocess_input\n",
        "from tensorflow.keras.preprocessing.image import img_to_array\n",
        "from tensorflow.keras.preprocessing.image import load_img\n",
        "from tensorflow.keras.utils import to_categorical\n",
        "from sklearn.preprocessing import LabelBinarizer\n",
        "from sklearn.model_selection import train_test_split\n",
        "from sklearn.metrics import classification_report\n",
        "from imutils import paths\n",
        "import matplotlib.pyplot as plt\n",
        "import numpy as np\n",
        "import os"
      ]
    },
    {
      "cell_type": "code",
      "execution_count": 11,
      "metadata": {},
      "outputs": [
        {
          "name": "stdout",
          "output_type": "stream",
          "text": [
            "[INFO] loading images...\n"
          ]
        }
      ],
      "source": [
        "# initialize the initial learning rate, number of epochs to train for,\n",
        "# and batch size\n",
        "INIT_LR = 1e-4\n",
        "EPOCHS = 20\n",
        "BS = 32\n",
        "\n",
        "DIRECTORY = r\"D:/Malprcatice Detection/Dataset/Mobilenet color data\"\n",
        "CATEGORIES = [\"Accepted\", \"Not_Accepted\"]\n",
        "\n",
        "# grab the list of images in our dataset directory, then initialize\n",
        "# the list of data (i.e., images) and class images\n",
        "print(\"[INFO] loading images...\")\n"
      ]
    },
    {
      "cell_type": "code",
      "execution_count": 13,
      "metadata": {},
      "outputs": [],
      "source": [
        "data = []\n",
        "labels = []\n",
        "\n",
        "for category in CATEGORIES:\n",
        "    path = os.path.join(DIRECTORY, category)\n",
        "    for img in os.listdir(path):\n",
        "    \timg_path = os.path.join(path, img)\n",
        "    \timage = load_img(img_path, target_size=(256, 256))\n",
        "    \timage = img_to_array(image)\n",
        "    \timage = preprocess_input(image)\n",
        "\n",
        "    \tdata.append(image)\n",
        "    \tlabels.append(category)\n"
      ]
    },
    {
      "cell_type": "code",
      "execution_count": 14,
      "metadata": {},
      "outputs": [],
      "source": [
        "# perform one-hot encoding on the labels\n",
        "lb = LabelBinarizer()\n",
        "labels = lb.fit_transform(labels)\n",
        "labels = to_categorical(labels)\n",
        "\n",
        "data = np.array(data, dtype=\"float32\")\n",
        "labels = np.array(labels)\n",
        "\n",
        "(trainX, testX, trainY, testY) = train_test_split(data, labels,\n",
        "\ttest_size=0.20, stratify=labels, random_state=42)"
      ]
    },
    {
      "cell_type": "code",
      "execution_count": 15,
      "metadata": {},
      "outputs": [],
      "source": [
        "# construct the training image generator for data augmentation\n",
        "aug = ImageDataGenerator(\n",
        "\trotation_range=20,\n",
        "\tzoom_range=0.15,\n",
        "\twidth_shift_range=0.2,\n",
        "\theight_shift_range=0.2,\n",
        "\tshear_range=0.15,\n",
        "\thorizontal_flip=True,\n",
        "\tfill_mode=\"nearest\")\n"
      ]
    },
    {
      "cell_type": "code",
      "execution_count": 16,
      "metadata": {},
      "outputs": [
        {
          "name": "stdout",
          "output_type": "stream",
          "text": [
            "WARNING:tensorflow:`input_shape` is undefined or non-square, or `rows` is not in [96, 128, 160, 192, 224]. Weights for input shape (224, 224) will be loaded as the default.\n"
          ]
        }
      ],
      "source": [
        "# load the MobileNetV2 network, ensuring the head FC layer sets are\n",
        "# left off\n",
        "baseModel = MobileNetV2(weights=\"imagenet\", include_top=False,\n",
        "\tinput_tensor=Input(shape=(256, 256, 3)))\n",
        "\n",
        "# construct the head of the model that will be placed on top of the\n",
        "# the base model\n",
        "headModel = baseModel.output\n",
        "headModel = AveragePooling2D(pool_size=(7, 7))(headModel)\n",
        "headModel = Flatten(name=\"flatten\")(headModel)\n",
        "headModel = Dense(128, activation=\"relu\")(headModel)\n",
        "headModel = Dropout(0.5)(headModel)\n",
        "headModel = Dense(2, activation=\"softmax\")(headModel)"
      ]
    },
    {
      "cell_type": "code",
      "execution_count": 17,
      "metadata": {},
      "outputs": [
        {
          "name": "stdout",
          "output_type": "stream",
          "text": [
            "[INFO] compiling model...\n",
            "[INFO] training head...\n"
          ]
        },
        {
          "name": "stderr",
          "output_type": "stream",
          "text": [
            "C:\\ProgramData\\Anaconda3\\lib\\site-packages\\keras\\optimizer_v2\\adam.py:105: UserWarning: The `lr` argument is deprecated, use `learning_rate` instead.\n",
            "  super(Adam, self).__init__(name, **kwargs)\n"
          ]
        },
        {
          "name": "stdout",
          "output_type": "stream",
          "text": [
            "Epoch 1/20\n",
            "8/8 [==============================] - 18s 2s/step - loss: 0.7691 - accuracy: 0.5259 - val_loss: 0.6845 - val_accuracy: 0.5303\n",
            "Epoch 2/20\n",
            "8/8 [==============================] - 11s 1s/step - loss: 0.7629 - accuracy: 0.5259 - val_loss: 0.6400 - val_accuracy: 0.6515\n",
            "Epoch 3/20\n",
            "8/8 [==============================] - 11s 1s/step - loss: 0.6868 - accuracy: 0.6379 - val_loss: 0.6019 - val_accuracy: 0.8182\n",
            "Epoch 4/20\n",
            "8/8 [==============================] - 11s 1s/step - loss: 0.6455 - accuracy: 0.6552 - val_loss: 0.5806 - val_accuracy: 0.8030\n",
            "Epoch 5/20\n",
            "8/8 [==============================] - 11s 1s/step - loss: 0.6360 - accuracy: 0.6853 - val_loss: 0.5617 - val_accuracy: 0.8333\n",
            "Epoch 6/20\n",
            "8/8 [==============================] - 11s 1s/step - loss: 0.6167 - accuracy: 0.6724 - val_loss: 0.5421 - val_accuracy: 0.8788\n",
            "Epoch 7/20\n",
            "8/8 [==============================] - 11s 1s/step - loss: 0.5945 - accuracy: 0.7284 - val_loss: 0.5282 - val_accuracy: 0.8636\n",
            "Epoch 8/20\n",
            "8/8 [==============================] - 11s 1s/step - loss: 0.5642 - accuracy: 0.7457 - val_loss: 0.5057 - val_accuracy: 0.8939\n",
            "Epoch 9/20\n",
            "8/8 [==============================] - 11s 1s/step - loss: 0.5334 - accuracy: 0.7845 - val_loss: 0.4891 - val_accuracy: 0.8939\n",
            "Epoch 10/20\n",
            "8/8 [==============================] - 11s 1s/step - loss: 0.5160 - accuracy: 0.7759 - val_loss: 0.4826 - val_accuracy: 0.8788\n",
            "Epoch 11/20\n",
            "8/8 [==============================] - 11s 1s/step - loss: 0.5517 - accuracy: 0.7586 - val_loss: 0.4782 - val_accuracy: 0.8333\n",
            "Epoch 12/20\n",
            "8/8 [==============================] - 11s 1s/step - loss: 0.4967 - accuracy: 0.7931 - val_loss: 0.4809 - val_accuracy: 0.8030\n",
            "Epoch 13/20\n",
            "8/8 [==============================] - 11s 1s/step - loss: 0.4738 - accuracy: 0.8319 - val_loss: 0.4620 - val_accuracy: 0.8182\n",
            "Epoch 14/20\n",
            "8/8 [==============================] - 11s 1s/step - loss: 0.4578 - accuracy: 0.8233 - val_loss: 0.4443 - val_accuracy: 0.8485\n",
            "Epoch 15/20\n",
            "8/8 [==============================] - 11s 1s/step - loss: 0.4715 - accuracy: 0.8103 - val_loss: 0.4488 - val_accuracy: 0.8182\n",
            "Epoch 16/20\n",
            "8/8 [==============================] - 11s 1s/step - loss: 0.4217 - accuracy: 0.8621 - val_loss: 0.4334 - val_accuracy: 0.8333\n",
            "Epoch 17/20\n",
            "8/8 [==============================] - 11s 1s/step - loss: 0.4734 - accuracy: 0.8103 - val_loss: 0.4054 - val_accuracy: 0.9242\n",
            "Epoch 18/20\n",
            "8/8 [==============================] - 11s 1s/step - loss: 0.4462 - accuracy: 0.8319 - val_loss: 0.4143 - val_accuracy: 0.8788\n",
            "Epoch 19/20\n",
            "8/8 [==============================] - 11s 1s/step - loss: 0.4179 - accuracy: 0.8491 - val_loss: 0.4080 - val_accuracy: 0.8636\n",
            "Epoch 20/20\n",
            "8/8 [==============================] - 11s 1s/step - loss: 0.4476 - accuracy: 0.8060 - val_loss: 0.3949 - val_accuracy: 0.9091\n",
            "[INFO] evaluating network...\n",
            "              precision    recall  f1-score   support\n",
            "\n",
            "    Accepted       0.86      0.97      0.91        31\n",
            "Not_Accepted       0.97      0.86      0.91        35\n",
            "\n",
            "    accuracy                           0.91        66\n",
            "   macro avg       0.91      0.91      0.91        66\n",
            "weighted avg       0.92      0.91      0.91        66\n",
            "\n",
            "[INFO] saving mask detector model...\n"
          ]
        },
        {
          "data": {
            "image/png": "[encoded data removed]",
            "text/plain": [
              "<Figure size 432x288 with 1 Axes>"
            ]
          },
          "metadata": {},
          "output_type": "display_data"
        }
      ],
      "source": [
        "# place the head FC model on top of the base model (this will become\n",
        "# the actual model we will train)\n",
        "model = Model(inputs=baseModel.input, outputs=headModel)\n",
        "\n",
        "# loop over all layers in the base model and freeze them so they will\n",
        "# *not* be updated during the first training process\n",
        "for layer in baseModel.layers:\n",
        "\tlayer.trainable = False\n",
        "\n",
        "# compile our model\n",
        "print(\"[INFO] compiling model...\")\n",
        "opt = Adam(lr=INIT_LR, decay=INIT_LR / EPOCHS)\n",
        "model.compile(loss=\"binary_crossentropy\", optimizer=opt,\n",
        "\tmetrics=[\"accuracy\"])\n",
        "\n",
        "# train the head of the network\n",
        "print(\"[INFO] training head...\")\n",
        "H = model.fit(\n",
        "\taug.flow(trainX, trainY, batch_size=BS),\n",
        "\tsteps_per_epoch=len(trainX) // BS,\n",
        "\tvalidation_data=(testX, testY),\n",
        "\tvalidation_steps=len(testX) // BS,\n",
        "\tepochs=EPOCHS)\n",
        "\n",
        "# make predictions on the testing set\n",
        "print(\"[INFO] evaluating network...\")\n",
        "predIdxs = model.predict(testX, batch_size=BS)\n",
        "\n",
        "# for each image in the testing set we need to find the index of the\n",
        "# label with corresponding largest predicted probability\n",
        "predIdxs = np.argmax(predIdxs, axis=1)\n",
        "\n",
        "# show a nicely formatted classification report\n",
        "print(classification_report(testY.argmax(axis=1), predIdxs,\n",
        "\ttarget_names=lb.classes_))\n",
        "\n",
        "# serialize the model to disk\n",
        "print(\"Save the Model\")\n",
        "model.save(\"malpractice.model\", save_format=\"h5\")\n",
        "\n",
        "\n",
        "# plot the training loss and accuracy\n",
        "N = EPOCHS\n",
        "plt.style.use(\"ggplot\")\n",
        "plt.figure()\n",
        "plt.plot(np.arange(0, N), H.history[\"loss\"], label=\"train_loss\")\n",
        "plt.plot(np.arange(0, N), H.history[\"val_loss\"], label=\"val_loss\")\n",
        "plt.plot(np.arange(0, N), H.history[\"accuracy\"], label=\"train_acc\")\n",
        "plt.plot(np.arange(0, N), H.history[\"val_accuracy\"], label=\"val_acc\")\n",
        "plt.title(\"Training Loss and Accuracy\")\n",
        "plt.xlabel(\"Epoch #\")\n",
        "plt.ylabel(\"Loss/Accuracy\")\n",
        "plt.legend(loc=\"lower left\")\n",
        "plt.savefig(\"plot.png\")"
      ]
    },
    {
      "cell_type": "code",
      "execution_count": 28,
      "metadata": {},
      "outputs": [
        {
          "name": "stdout",
          "output_type": "stream",
          "text": [
            "Predicted Array: [[0 1]]\n",
            "Predicted Label: Malpractice\n"
          ]
        }
      ],
      "source": [
        "from keras.callbacks import Callback, ModelCheckpoint\n",
        "from keras.preprocessing import image\n",
        "from keras.models import load_model\n",
        "\n",
        "#img_path = 'D:/Malprcatice Detection/Dataset/VGG19 Model/Test/Accepted_Test/WIN_20220422_15_18_52_Pro.jpg'\n",
        "img_path = 'D:/Malprcatice Detection/Dataset/VGG19 Model/Test/Not Accepted_Test/WIN_20220422_15_30_34_Pro.jpg'\n",
        "\n",
        "\n",
        "label = ['No Malpractice','Malpractice']\n",
        "model = load_model('D:/Malprcatice Detection/Models/mask_detector.model')\n",
        "\n",
        "img = image.load_img(img_path, target_size=(256, 256))\n",
        "x = image.img_to_array(img)\n",
        "x = np.expand_dims(x, axis=0)\n",
        "x = preprocess_input(x)\n",
        "\n",
        "features = model.predict(x)\n",
        "thresholded = (features>0.5)*1\n",
        "ind = np.argmax(thresholded)\n",
        "print('Predicted Array:',thresholded)\n",
        "print('Predicted Label:',label[ind])\n"
      ]
    }
  ],
  "metadata": {
    "colab": {
      "name": "Untitled15.ipynb",
      "provenance": []
    },
    "kernelspec": {
      "display_name": "Python 3",
      "name": "python3"
    },
    "language_info": {
      "codemirror_mode": {
        "name": "ipython",
        "version": 3
      },
      "file_extension": ".py",
      "mimetype": "text/x-python",
      "name": "python",
      "nbconvert_exporter": "python",
      "pygments_lexer": "ipython3",
      "version": "3.9.7"
    }
  },
  "nbformat": 4,
  "nbformat_minor": 0
}
